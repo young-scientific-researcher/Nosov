{
 "cells": [
  {
   "cell_type": "code",
   "execution_count": 683,
   "id": "3c3a92d0-b188-4f17-9a15-36f6bcf2cfda",
   "metadata": {},
   "outputs": [],
   "source": [
    "import pandas as pd\n",
    "import numpy as np\n",
    "import matplotlib.pyplot as plt\n",
    "import os\n",
    "import pathlib\n",
    "from pathlib import Path\n",
    "import seaborn as sns\n",
    "import csv\n",
    "import scipy\n",
    "from scipy import stats\n",
    "from scipy.optimize import curve_fit\n",
    "import os\n",
    "from matplotlib.pyplot import figure\n"
   ]
  },
  {
   "cell_type": "code",
   "execution_count": 719,
   "id": "2e3d53fe-3d50-48ee-826c-fbac84e7d18d",
   "metadata": {},
   "outputs": [],
   "source": [
    "def box_and_whisker(data, title, ylabel, xticklabels, path_to_save_fig):\n",
    "    \"\"\"\n",
    "    Create a box-and-whisker plot with significance bars.\n",
    "    \"\"\"\n",
    "    from matplotlib.pyplot import figure\n",
    "\n",
    "    figure(figsize=(8, 6), dpi=150)\n",
    "    ax = plt.axes()\n",
    "    bp = ax.boxplot(data, widths=0.4, patch_artist=False)\n",
    "    # for i in range(6):\n",
    "    #   y = data[i]\n",
    "    #   x = np.random.normal(1+i, 0.03, size=len(y))\n",
    "    #   plt.plot(x, y, 'r.', alpha=0.4)\n",
    "    # Graph title\n",
    "    ax.set_title(title, fontsize=14)\n",
    "    # Label y-axis\n",
    "    ax.set_ylabel(ylabel, fontsize = 12)\n",
    "    # Label x-axis ticks\n",
    "    ax.set_xticklabels(xticklabels)\n",
    "    # Hide x-axis major ticks\n",
    "    ax.tick_params(axis='x', which='major', length=0, labelsize = 12)\n",
    "    # Show x-axis minor ticks\n",
    "    xticks = [0.5] + [x + 0.5 for x in ax.get_xticks()]\n",
    "    ax.set_xticks(xticks, minor=True)\n",
    "    # Clean up the appearance\n",
    "    ax.tick_params(axis='x', which='minor', length=3, width=1)\n",
    "\n",
    "    # Change the colour of the boxes to Seaborn's 'pastel' palette\n",
    "    # colors = sns.color_palette('pastel')\n",
    "    # for patch, color in zip(bp['boxes'], colors):\n",
    "    #     patch.set_facecolor(color)\n",
    "\n",
    "    # Colour of the median lines\n",
    "    plt.setp(bp['medians'], color='r', linewidth = 1.5)\n",
    "\n",
    "    # Check for statistical significance\n",
    "    significant_combinations = []\n",
    "    # Check from the outside pairs of boxes inwards\n",
    "    ls = list(range(1, len(data) + 1))\n",
    "    combinations = [(ls[x], ls[x + y]) for y in reversed(ls) for x in range((len(ls) - y))]\n",
    "    print(combinations)\n",
    "    for c in combinations:\n",
    "        data1 = data[c[0] - 1]\n",
    "        data2 = data[c[1] - 1]\n",
    "        # Significance\n",
    "        U, p = stats.mannwhitneyu(data1, data2, alternative='two-sided')\n",
    "        if p < 0.05:\n",
    "            significant_combinations.append([c, p])\n",
    "        else: significant_combinations.append([c, 0])\n",
    "\n",
    "    # Get info about y-axis\n",
    "    bottom, top = ax.get_ylim()\n",
    "    yrange = top - bottom\n",
    "\n",
    "    # Significance bars\n",
    "    for i, significant_combination in enumerate(significant_combinations):\n",
    "        # Columns corresponding to the datasets of interest\n",
    "        x1 = significant_combination[0][0]\n",
    "        x2 = significant_combination[0][1]\n",
    "        # What level is this bar among the bars above the plot?\n",
    "        level = len(significant_combinations) - i\n",
    "        # Plot the bar\n",
    "        bar_height = (yrange * 0.08 * level) + top\n",
    "        bar_tips = bar_height - (yrange * 0.02)\n",
    "        plt.plot(\n",
    "            [x1, x1, x2, x2],\n",
    "            [bar_tips, bar_height, bar_height, bar_tips], lw=1, c='k')\n",
    "        # Significance level\n",
    "        p = significant_combination[1]\n",
    "        if p < 0.001 and p > 0:\n",
    "            sig_symbol = '***'\n",
    "        elif p < 0.01 and p > 0:\n",
    "            sig_symbol = '**'\n",
    "        elif p < 0.05 and p > 0:\n",
    "            sig_symbol = '*'\n",
    "        elif p == 0:\n",
    "            sig_symbol = 'ns'\n",
    "        text_height = bar_height + (yrange * 0.01)\n",
    "        plt.text((x1 + x2) * 0.5, text_height, sig_symbol, ha='center', c='k')\n",
    "    print(significant_combinations)\n",
    "    # Adjust y-axis\n",
    "    bottom, top = ax.get_ylim()\n",
    "    yrange = top - bottom\n",
    "    ax.set_ylim(bottom - 0.02 * yrange, top)\n",
    "\n",
    "    # Annotate sample size below each box\n",
    "    # for i, dataset in enumerate(data):\n",
    "    #     sample_size = len(dataset)\n",
    "    #     ax.text(i + 1, bottom, fr'n = {sample_size}', ha='center', size='x-small')\n",
    "    plt.savefig(path_to_save_fig, dpi=150)\n",
    "    plt.show()"
   ]
  },
  {
   "cell_type": "markdown",
   "id": "ed0184a9-f524-493b-98e4-660727aa891e",
   "metadata": {},
   "source": [
    "# Function to compute diffusion coefficient and slope"
   ]
  },
  {
   "cell_type": "code",
   "execution_count": 433,
   "id": "cac9bb0e-700e-436d-97dc-020534d9c58b",
   "metadata": {},
   "outputs": [
    {
     "name": "stderr",
     "output_type": "stream",
     "text": [
      "<>:75: SyntaxWarning: invalid escape sequence '\\m'\n",
      "<>:75: SyntaxWarning: invalid escape sequence '\\m'\n",
      "/var/folders/x4/mnnq2_xj6tl1_22dfl8_x_qm0000gn/T/ipykernel_5683/127788190.py:75: SyntaxWarning: invalid escape sequence '\\m'\n",
      "  plt.xlabel(\"Diffusion coefficient ($\\mu$m$^{2}$s$^{-1}$)\")\n"
     ]
    }
   ],
   "source": [
    "def straightline(x, m, c):\n",
    "    return m * x + c\n",
    "    \n",
    "def msd_track(df, path_msd, path_coef):\n",
    "    df = df.rename(columns = {'POSITION_X' : 'X', 'POSITION_Y' : 'Y'})\n",
    "    df['X'] = pd.to_numeric(df['X'], errors='coerce')\n",
    "    df['Y'] = pd.to_numeric(df['Y'], errors='coerce')\n",
    "    df['TRACK_ID'] = pd.to_numeric(df['TRACK_ID'], errors='coerce')\n",
    "    df['FRAME'] = pd.to_numeric(df['FRAME'], errors='coerce')\n",
    "    \n",
    "\n",
    "    df = df.dropna(subset=['X', 'Y'])\n",
    "\n",
    "    id = df['TRACK_ID'].unique()\n",
    "\n",
    "    # Precompute trajectories\n",
    "    traj = [np.column_stack((\n",
    "            df.loc[df['TRACK_ID'] == track_id, 'X'].values, \n",
    "            df.loc[df['TRACK_ID'] == track_id, 'Y'].values)) \n",
    "        for track_id in id]\n",
    "    \n",
    "    # Initialize results\n",
    "    diffusion_coefs = []\n",
    "\n",
    "    MSD_all = []\n",
    "    dx_all = []\n",
    "    # Compute displacements and related statistics\n",
    "    for Traj in traj:\n",
    "        X = Traj[:, 0] * 0.12 \n",
    "        Y = Traj[:, 1] * 0.12\n",
    "        Length = len(Traj)\n",
    "        # print(Length)\n",
    "        MSD = np.zeros(Length - 1)  # mean squared displacement\n",
    "        n = np.zeros(Length - 1)  # used to measure number of trajectories of given length for weighting\n",
    "        tau = np.zeros(Length - 1)  # times between MSDs\n",
    "        track_lengths = np.zeros(Length - 1)\n",
    "        dx = []\n",
    "        dy = []\n",
    "\n",
    "        for n in range(1, Length):\n",
    "            # Calculate displacements efficiently\n",
    "            delta_X = X[n:] - X[:Length - n]\n",
    "            delta_Y = Y[n:] - Y[:Length - n]\n",
    "\n",
    "            displacement = delta_X**2 + delta_Y**2   \n",
    "            MSD[n - 1] = np.mean(displacement)\n",
    "            track_lengths[n - 1] = len(displacement)\n",
    "            tau[n - 1] = n * 0.01\n",
    "            \n",
    "        tau = tau[: 4]\n",
    "        MSD = MSD[: 4]\n",
    "        MSD_all.append(MSD)\n",
    "        track_lengths = track_lengths[: 4]\n",
    "        weights = track_lengths[: 4].astype(\"float32\") / float(np.amax(track_lengths[: 4]))\n",
    "        # plt.plot(tau, MSD)\n",
    "        # plt.xlabel(r\"$\\tau$\")\n",
    "        # plt.ylabel(\"MSD ($\\mu$m$^2$)\")\n",
    "        try:\n",
    "            popt, pcov = curve_fit(straightline, tau, MSD, p0=[1, 0], sigma=weights)\n",
    "            # if popt[0] > 0:\n",
    "            diffusion_coefs.append(popt[0] / 4.0)\n",
    "        except:\n",
    "            print(\"WARNING: Unable to fit curve\")\n",
    "        # plt.show()\n",
    "        \n",
    "    plt.hist(diffusion_coefs, bins = 50)\n",
    "    plt.xlabel(\"Diffusion coefficient ($\\mu$m$^{2}$s$^{-1}$)\")\n",
    "    plt.ylabel(\"Number of foci trajectories\")\n",
    "\n",
    "    # Save values\n",
    "    msd_df = pd.DataFrame(MSD_all).T\n",
    "    msd_df.to_csv(path_msd, index = False)\n",
    "    \n",
    "    dif_coef = pd.DataFrame(diffusion_coefs)\n",
    "    dif_coef.to_csv(path_coef, index = False)"
   ]
  },
  {
   "cell_type": "markdown",
   "id": "5c04bde8-c6a7-496c-bdff-479871301ac7",
   "metadata": {},
   "source": [
    "# Compute msd_tracks for your dataset"
   ]
  },
  {
   "cell_type": "code",
   "execution_count": 547,
   "id": "81bab319-1157-47ff-979f-15b81422f5cd",
   "metadata": {},
   "outputs": [
    {
     "name": "stderr",
     "output_type": "stream",
     "text": [
      "/var/folders/x4/mnnq2_xj6tl1_22dfl8_x_qm0000gn/T/ipykernel_5683/3091905836.py:2: DtypeWarning: Columns (1,2,3,4,5,6,7,8,9,10,11,12,13,14,15,16,17,18,19) have mixed types. Specify dtype option on import or set low_memory=False.\n",
      "  df = pd.read_csv(path)\n"
     ]
    },
    {
     "data": {
      "text/plain": [
       "TRACK_ID       int64\n",
       "POSITION_X    object\n",
       "POSITION_Y    object\n",
       "FRAME          int64\n",
       "dtype: object"
      ]
     },
     "execution_count": 547,
     "metadata": {},
     "output_type": "execute_result"
    }
   ],
   "source": [
    "path = '/Users/lizakozlikina/Desktop/NOSOV dSTORM/SPT/Stats tracks/SNAP25_Prop/SNAP25_Prop_spots_8_wtf.csv'\n",
    "df = pd.read_csv(path)\n",
    "\n",
    "df = df.loc[3:, ['TRACK_ID', 'POSITION_X', 'POSITION_Y', 'FRAME']]\n",
    "df['TRACK_ID'] = pd.to_numeric(df['TRACK_ID'], errors='coerce')\n",
    "df['FRAME'] = pd.to_numeric(df['FRAME'], errors='coerce')\n",
    "df = df.sort_values(by = ['FRAME'])\n",
    "df.dtypes"
   ]
  },
  {
   "cell_type": "code",
   "execution_count": 551,
   "id": "8b775066-05c9-4725-985f-3f1490790ca2",
   "metadata": {},
   "outputs": [
    {
     "data": {
      "image/png": "[encoded data removed]",
      "text/plain": [
       "<Figure size 640x480 with 1 Axes>"
      ]
     },
     "metadata": {},
     "output_type": "display_data"
    }
   ],
   "source": [
    "msd_track(df,'/Users/lizakozlikina/Desktop/NOSOV dSTORM/SPT/Stats tracks/SNAP25_Prop/msd_8.csv', '/Users/lizakozlikina/Desktop/NOSOV dSTORM/SPT/Stats tracks/SNAP25_Prop/dif_coef_8.csv')"
   ]
  },
  {
   "cell_type": "code",
   "execution_count": null,
   "id": "dd9264e4-bd39-47d0-b026-371c2f28ff49",
   "metadata": {},
   "outputs": [],
   "source": []
  },
  {
   "cell_type": "markdown",
   "id": "4747255e-bbe0-4e5f-9225-5b9312edf4ce",
   "metadata": {},
   "source": [
    "# Statistics – Mean diffusion coefficient"
   ]
  },
  {
   "cell_type": "code",
   "execution_count": 691,
   "id": "e69066ab-08ba-48f5-b363-222c64618171",
   "metadata": {},
   "outputs": [],
   "source": [
    "def values_mean(path_to_vals):\n",
    "  paths_to_df = []\n",
    "\n",
    "  for filename in os.listdir(path_to_vals):\n",
    "    if filename.endswith('csv'):\n",
    "      f = os.path.join(path_to_vals, filename)\n",
    "      paths_to_df.append(f)\n",
    "    else: continue\n",
    "\n",
    "  mean_vals = []\n",
    "  for p in paths_to_df:\n",
    "    df = pd.read_csv(p)\n",
    "    mean = df['0'].mean()    \n",
    "    mean_vals.append(mean)      \n",
    "  DF = pd.DataFrame({'mean' : mean_vals})\n",
    "  return DF"
   ]
  },
  {
   "cell_type": "code",
   "execution_count": 773,
   "id": "eaa0ce12-6c18-4748-b9d3-f7decbd8ba87",
   "metadata": {},
   "outputs": [],
   "source": [
    "DF_tent_c = values_mean('/Users/lizakozlikina/Desktop/NOSOV dSTORM/SPT/SNAP25/TeNT Control/control tent 67 prop control')\n",
    "DF_tent = values_mean('/Users/lizakozlikina/Desktop/NOSOV dSTORM/SPT/SNAP25/TeNT/snap_tent_dif_coef')\n",
    "DF_prop_c = values_mean('/Users/lizakozlikina/Desktop/NOSOV dSTORM/SPT/SNAP25/SNAP25_Prop_Control/snap_prop_control_dif_coef')\n",
    "DF_prop = values_mean('/Users/lizakozlikina/Desktop/NOSOV dSTORM/SPT/SNAP25/SNAP25_Prop/snap_prop_dif_coef')"
   ]
  },
  {
   "cell_type": "code",
   "execution_count": 775,
   "id": "59979f0a-23cd-4a14-8a15-e4b06c98c79c",
   "metadata": {},
   "outputs": [],
   "source": [
    "data = [DF_tent_c.iloc[:,0], DF_prop.iloc[:,0], DF_tent.iloc[:,0]]"
   ]
  },
  {
   "cell_type": "code",
   "execution_count": 777,
   "id": "b11f462e-5076-45b4-8ed0-ece231da94f9",
   "metadata": {},
   "outputs": [
    {
     "name": "stdout",
     "output_type": "stream",
     "text": [
      "[(1, 3), (1, 2), (2, 3)]\n",
      "[[(1, 3), 0], [(1, 2), 0.0042573385489626], [(2, 3), 0.0014457807008947526]]\n"
     ]
    },
    {
     "data": {
      "image/png": "[encoded data removed]",
      "text/plain": [
       "<Figure size 1200x900 with 1 Axes>"
      ]
     },
     "metadata": {},
     "output_type": "display_data"
    }
   ],
   "source": [
    "title = 'SNAP25'\n",
    "ylabel = r'Mean diffusion coefficient ($\\mu$m$^{2}$s$^{-1}$)'\n",
    "xticklabels =['Control', 'Propofol', 'TeNT']\n",
    "path_to_save_fig = \"/Users/lizakozlikina/Desktop/NOSOV dSTORM/SPT/SNAP25/mean_dif_coef_all_filtered_control\"\n",
    "\n",
    "box_and_whisker(data, title, ylabel, xticklabels, path_to_save_fig)"
   ]
  },
  {
   "cell_type": "code",
   "execution_count": null,
   "id": "d8d37a02-7c74-4e56-aa3f-13dcc2245bb8",
   "metadata": {},
   "outputs": [],
   "source": []
  },
  {
   "cell_type": "markdown",
   "id": "83becb95-da72-4b74-9b2f-f983ce21f7e5",
   "metadata": {},
   "source": [
    "# Statistics – distributions of diffusion coefs"
   ]
  },
  {
   "cell_type": "code",
   "execution_count": 685,
   "id": "79d7e0c3-8859-444a-b03e-80b95cedd073",
   "metadata": {},
   "outputs": [],
   "source": [
    "df_prop1 = pd.read_csv('/Users/lizakozlikina/Desktop/NOSOV dSTORM/SPT/SNAP25/SNAP25_Prop/snap_prop_dif_coef/dif_coef_1.csv')\n",
    "df_prop2 = pd.read_csv('/Users/lizakozlikina/Desktop/NOSOV dSTORM/SPT/SNAP25/SNAP25_Prop/snap_prop_dif_coef/dif_coef_2.csv')\n",
    "\n",
    "# DF_tent = values_mean_std('/Users/lizakozlikina/Desktop/NOSOV dSTORM/SPT/SNAP25/TeNT/snap_tent_dif_coef')\n",
    "# DF_prop_c = values_mean_std('/Users/lizakozlikina/Desktop/NOSOV dSTORM/SPT/SNAP25/SNAP25_Prop_Control/snap_prop_control_dif_coef')\n",
    "# DF_prop = values_mean_std('/Users/lizakozlikina/Desktop/NOSOV dSTORM/SPT/SNAP25/SNAP25_Prop/snap_prop_dif_coef')"
   ]
  },
  {
   "cell_type": "code",
   "execution_count": 687,
   "id": "424f3d32-7449-415e-abf6-1dd8b8ebb641",
   "metadata": {},
   "outputs": [
    {
     "data": {
      "text/plain": [
       "<Axes: xlabel='0', ylabel='Count'>"
      ]
     },
     "execution_count": 687,
     "metadata": {},
     "output_type": "execute_result"
    },
    {
     "data": {
      "image/png": "[encoded data removed]",
      "text/plain": [
       "<Figure size 640x480 with 1 Axes>"
      ]
     },
     "metadata": {},
     "output_type": "display_data"
    }
   ],
   "source": [
    "sns.histplot(df_prop1['0'])\n",
    "sns.histplot(df_prop2['0'])\n"
   ]
  },
  {
   "cell_type": "code",
   "execution_count": 707,
   "id": "9cd46315-0a26-48e9-8c94-2a1d1f319bfa",
   "metadata": {},
   "outputs": [
    {
     "name": "stderr",
     "output_type": "stream",
     "text": [
      "<>:15: SyntaxWarning: invalid escape sequence '\\m'\n",
      "<>:15: SyntaxWarning: invalid escape sequence '\\m'\n",
      "/var/folders/x4/mnnq2_xj6tl1_22dfl8_x_qm0000gn/T/ipykernel_5683/41933341.py:15: SyntaxWarning: invalid escape sequence '\\m'\n",
      "  f.set_xlabel(\"Diffusion coefficient ($\\mu$m$^{2}$s$^{-1}$)\")\n"
     ]
    }
   ],
   "source": [
    "def histplot_group(path_to_vals, title):\n",
    "  paths_to_df = []\n",
    "\n",
    "  for filename in os.listdir(path_to_vals):\n",
    "    if filename.endswith('csv'):\n",
    "      f = os.path.join(path_to_vals, filename)\n",
    "      paths_to_df.append(f)\n",
    "    else: continue\n",
    "\n",
    "  mean_vals = []\n",
    "  for p in paths_to_df:\n",
    "    df = pd.read_csv(p)\n",
    "    f = sns.histplot(df['0'])\n",
    "  f.set_title(title)\n",
    "  f.set_xlabel(\"Diffusion coefficient ($\\mu$m$^{2}$s$^{-1}$)\")\n",
    "  return f"
   ]
  },
  {
   "cell_type": "code",
   "execution_count": 709,
   "id": "e7418322-ab54-45ee-8f7e-e5068c0dc29f",
   "metadata": {},
   "outputs": [
    {
     "data": {
      "text/plain": [
       "<Axes: title={'center': 'Propofol'}, xlabel='Diffusion coefficient ($\\\\mu$m$^{2}$s$^{-1}$)', ylabel='Count'>"
      ]
     },
     "execution_count": 709,
     "metadata": {},
     "output_type": "execute_result"
    },
    {
     "data": {
      "image/png": "[encoded data removed]",
      "text/plain": [
       "<Figure size 640x480 with 1 Axes>"
      ]
     },
     "metadata": {},
     "output_type": "display_data"
    }
   ],
   "source": [
    "histplot_group('/Users/lizakozlikina/Desktop/NOSOV dSTORM/SPT/SNAP25/SNAP25_Prop/snap_prop_dif_coef', 'Propofol')"
   ]
  },
  {
   "cell_type": "code",
   "execution_count": 711,
   "id": "31c80fb3-a32d-440c-88b0-d5972606925b",
   "metadata": {},
   "outputs": [
    {
     "data": {
      "text/plain": [
       "<Axes: title={'center': 'TeNT'}, xlabel='Diffusion coefficient ($\\\\mu$m$^{2}$s$^{-1}$)', ylabel='Count'>"
      ]
     },
     "execution_count": 711,
     "metadata": {},
     "output_type": "execute_result"
    },
    {
     "data": {
      "image/png": "[encoded data removed]",
      "text/plain": [
       "<Figure size 640x480 with 1 Axes>"
      ]
     },
     "metadata": {},
     "output_type": "display_data"
    }
   ],
   "source": [
    "histplot_group('/Users/lizakozlikina/Desktop/NOSOV dSTORM/SPT/SNAP25/TeNT/snap_tent_dif_coef', 'TeNT')"
   ]
  },
  {
   "cell_type": "code",
   "execution_count": 713,
   "id": "6473b8fb-8b30-4914-afa4-622209077871",
   "metadata": {},
   "outputs": [
    {
     "data": {
      "text/plain": [
       "<Axes: title={'center': 'Control'}, xlabel='Diffusion coefficient ($\\\\mu$m$^{2}$s$^{-1}$)', ylabel='Count'>"
      ]
     },
     "execution_count": 713,
     "metadata": {},
     "output_type": "execute_result"
    },
    {
     "data": {
      "image/png": "[encoded data removed]",
      "text/plain": [
       "<Figure size 640x480 with 1 Axes>"
      ]
     },
     "metadata": {},
     "output_type": "display_data"
    }
   ],
   "source": [
    "histplot_group('/Users/lizakozlikina/Desktop/NOSOV dSTORM/SPT/SNAP25/TeNT Control/snap_tent_control_dif_coef', 'Control')\n"
   ]
  },
  {
   "cell_type": "code",
   "execution_count": null,
   "id": "342646af-882c-4e97-b6e4-849b51054691",
   "metadata": {},
   "outputs": [],
   "source": []
  },
  {
   "cell_type": "code",
   "execution_count": null,
   "id": "2911ffce-c545-4f77-b30d-04a8e330c335",
   "metadata": {},
   "outputs": [],
   "source": []
  },
  {
   "cell_type": "code",
   "execution_count": null,
   "id": "691233b6-0cec-4102-9837-19fb0bf411f6",
   "metadata": {},
   "outputs": [],
   "source": []
  },
  {
   "cell_type": "code",
   "execution_count": null,
   "id": "f1ca6bcd-3906-49aa-b0fe-5d1865a5bd11",
   "metadata": {},
   "outputs": [],
   "source": []
  },
  {
   "cell_type": "code",
   "execution_count": null,
   "id": "17089c92-a9b5-4e33-8166-de14e9096815",
   "metadata": {},
   "outputs": [],
   "source": []
  },
  {
   "cell_type": "code",
   "execution_count": null,
   "id": "008d8e28-fa5a-4de8-be48-f907149f6062",
   "metadata": {},
   "outputs": [],
   "source": []
  },
  {
   "cell_type": "markdown",
   "id": "8107dd6b-b79a-4aaa-acfb-ed88e498e5b7",
   "metadata": {},
   "source": [
    "# Find negative values and sort two tables"
   ]
  },
  {
   "cell_type": "code",
   "execution_count": 360,
   "id": "a37cd2c2-5414-45f2-8766-ab8c089ae69b",
   "metadata": {},
   "outputs": [],
   "source": [
    "negative_slope = df_traj.columns[(df_traj < 0).any()].tolist()"
   ]
  },
  {
   "cell_type": "code",
   "execution_count": null,
   "id": "0dde3b17-1b00-417b-8567-aa76b5190e67",
   "metadata": {},
   "outputs": [],
   "source": []
  },
  {
   "cell_type": "code",
   "execution_count": null,
   "id": "57212f4e-4149-4205-b85e-840594bebf3f",
   "metadata": {},
   "outputs": [],
   "source": []
  },
  {
   "cell_type": "code",
   "execution_count": null,
   "id": "a4cd453c-0170-437d-b7cf-7f6604d288c1",
   "metadata": {},
   "outputs": [],
   "source": []
  },
  {
   "cell_type": "code",
   "execution_count": null,
   "id": "f86c8e9d-e0da-437f-a7a8-33c2917dc217",
   "metadata": {},
   "outputs": [],
   "source": []
  },
  {
   "cell_type": "code",
   "execution_count": null,
   "id": "5d84a557-28ac-4f84-8f95-e5787ceebd8a",
   "metadata": {},
   "outputs": [],
   "source": []
  },
  {
   "cell_type": "code",
   "execution_count": null,
   "id": "2bf1b62b-c8a2-40c4-a340-06f4c5f97739",
   "metadata": {},
   "outputs": [],
   "source": []
  },
  {
   "cell_type": "code",
   "execution_count": null,
   "id": "c046841f-c958-432f-89e6-ebf0b531d7e2",
   "metadata": {},
   "outputs": [],
   "source": []
  },
  {
   "cell_type": "code",
   "execution_count": null,
   "id": "4556d86c-4300-4771-9cd4-ca527903f074",
   "metadata": {},
   "outputs": [],
   "source": []
  },
  {
   "cell_type": "code",
   "execution_count": null,
   "id": "9f0d8c45-ad6d-434f-aae4-3c8e0239e1f2",
   "metadata": {},
   "outputs": [],
   "source": []
  },
  {
   "cell_type": "code",
   "execution_count": null,
   "id": "07aff8dc-b376-4055-bcf9-7ce69fb07211",
   "metadata": {},
   "outputs": [],
   "source": []
  },
  {
   "cell_type": "code",
   "execution_count": null,
   "id": "86015f6b-490f-4f7e-993c-9ff1ab8d2ccc",
   "metadata": {},
   "outputs": [],
   "source": []
  },
  {
   "cell_type": "code",
   "execution_count": null,
   "id": "80272b86-3a01-4335-b173-7386855ebc24",
   "metadata": {},
   "outputs": [],
   "source": []
  },
  {
   "cell_type": "code",
   "execution_count": null,
   "id": "1ed2c9c6-f270-4b85-89c9-558d9ea46ae9",
   "metadata": {},
   "outputs": [],
   "source": []
  },
  {
   "cell_type": "code",
   "execution_count": null,
   "id": "13cbc6ec-4da2-4f7a-840b-6fb529d7a300",
   "metadata": {},
   "outputs": [],
   "source": []
  },
  {
   "cell_type": "code",
   "execution_count": null,
   "id": "dd15658c-7f82-4a12-979e-dcea727fc37f",
   "metadata": {},
   "outputs": [],
   "source": []
  },
  {
   "cell_type": "code",
   "execution_count": null,
   "id": "15de002d-9cd1-4d3d-90d1-9a8635cfc0aa",
   "metadata": {},
   "outputs": [],
   "source": []
  },
  {
   "cell_type": "code",
   "execution_count": null,
   "id": "cca67e2f-1b2e-43b0-b486-e5472e0a3742",
   "metadata": {},
   "outputs": [],
   "source": []
  },
  {
   "cell_type": "code",
   "execution_count": null,
   "id": "930213ad-b988-4385-939f-5a7fefd25375",
   "metadata": {},
   "outputs": [],
   "source": []
  },
  {
   "cell_type": "markdown",
   "id": "971334ac-aad7-4122-a496-01e46885563f",
   "metadata": {},
   "source": [
    "## Initial code"
   ]
  },
  {
   "cell_type": "code",
   "execution_count": null,
   "id": "e4eefb4b-bae2-461e-babf-e8875764fedf",
   "metadata": {},
   "outputs": [],
   "source": [
    "df = df.rename(columns = {'POSITION_X' : 'X', 'POSITION_Y' : 'Y'})\n",
    "df['X'] = pd.to_numeric(df['X'], errors='coerce')\n",
    "df['Y'] = pd.to_numeric(df['Y'], errors='coerce')\n",
    "df = df.dropna(subset=['X', 'Y'])\n",
    "# Extract unique track IDs and their corresponding indices\n",
    "id = df['TRACK_ID'].unique()\n",
    "\n",
    "# Precompute trajectories\n",
    "traj = [np.column_stack((\n",
    "        df.loc[df['TRACK_ID'] == track_id, 'X'].values, \n",
    "        df.loc[df['TRACK_ID'] == track_id, 'Y'].values)) \n",
    "    for track_id in id]\n",
    "\n",
    "# Initialize results\n",
    "displacements_all = []\n",
    "mean_displacements = []\n",
    "std_displacements = []\n",
    "SD_all = []\n",
    "MSD_all = []\n",
    "stdMSD_all = []\n",
    "\n",
    "# Compute displacements and related statistics\n",
    "for Traj in traj:\n",
    "    X, Y = Traj[:, 0], Traj[:, 1]\n",
    "    Length = len(Traj)\n",
    "\n",
    "    displacements = []\n",
    "    mean_displacement = []\n",
    "    std_displacement = []\n",
    "    SD = []\n",
    "    MSD = []\n",
    "    stdMSD = []\n",
    "\n",
    "    for n in range(0, Length):\n",
    "        # Calculate displacements efficiently\n",
    "        delta_X = X[n:] - X[:Length - n]\n",
    "        delta_Y = Y[n:] - Y[:Length - n]\n",
    "        displacement = np.sqrt(delta_X**2 + delta_Y**2)\n",
    "        \n",
    "        displacements.append(displacement)\n",
    "        mean_displacement.append(np.mean(displacement))\n",
    "        std_displacement.append(np.std(displacement))\n",
    "        SD_n = displacement**2\n",
    "        SD.append(SD_n)\n",
    "        MSD.append(np.mean(SD_n))\n",
    "        stdMSD.append(np.std(SD_n))\n",
    "\n",
    "    displacements_all.append(displacements)\n",
    "    mean_displacements.append(mean_displacement)\n",
    "    std_displacements.append(std_displacement)\n",
    "    SD_all.append(SD)\n",
    "    MSD_all.append(MSD)\n",
    "    stdMSD_all.append(stdMSD)\n",
    "\n",
    "# Calculate MSD track slopes\n",
    "length = len(MSD_all)\n",
    "x = [0.02,0.03,0.04]\n",
    "MSD_track = []\n",
    "msd = pd.DataFrame(columns = ['msd', 't'])\n",
    "for i in range(0, length):\n",
    "    track = MSD_all[i]\n",
    "    y = np.array(track[2:5])\n",
    "    msd['msd'].insert(y)\n",
    "    msd['t'].append(x)\n",
    "    \n",
    "    p = np.polyfit(x, y, 1)\n",
    "    MSD_track.append(p[0])\n",
    "msd_df = pd.DataFrame(msd).T\n",
    "\n",
    "    # x = np.array([0.02, 0.03, 0.04])\n",
    "# MSD_track = [np.polyfit(x, np.array(MSD[2:5]), 1)[0] for MSD in MSD_all]"
   ]
  },
  {
   "cell_type": "code",
   "execution_count": null,
   "id": "ded90157-14a1-4cb6-b681-44188127f8cc",
   "metadata": {},
   "outputs": [],
   "source": [
    "msd_df = pd.DataFrame(msd).T\n",
    "msd_df.head()"
   ]
  },
  {
   "cell_type": "code",
   "execution_count": null,
   "id": "ffbdae42-4bef-4be0-a6ef-0d4ca70b25ab",
   "metadata": {},
   "outputs": [],
   "source": [
    "plt.scatter(x, MSD_all[267][2:5])"
   ]
  },
  {
   "cell_type": "code",
   "execution_count": null,
   "id": "b5aa67a1-46a3-44a1-a630-96b53d3bafa8",
   "metadata": {},
   "outputs": [],
   "source": [
    "df = pd.DataFrame(columns = ['r', 't'])\n",
    "\n",
    "vals = [7, 8]\n",
    "for i, value in enumerate(vals):\n",
    "    df.at[i, 'r'] = vals\n",
    "\n",
    "print(df)"
   ]
  },
  {
   "cell_type": "code",
   "execution_count": null,
   "id": "5e9d6028-5d57-4134-9295-6f8dc6d6c7f6",
   "metadata": {},
   "outputs": [],
   "source": []
  }
 ],
 "metadata": {
  "kernelspec": {
   "display_name": "Python 3 (ipykernel)",
   "language": "python",
   "name": "python3"
  },
  "language_info": {
   "codemirror_mode": {
    "name": "ipython",
    "version": 3
   },
   "file_extension": ".py",
   "mimetype": "text/x-python",
   "name": "python",
   "nbconvert_exporter": "python",
   "pygments_lexer": "ipython3",
   "version": "3.12.4"
  }
 },
 "nbformat": 4,
 "nbformat_minor": 5
}
